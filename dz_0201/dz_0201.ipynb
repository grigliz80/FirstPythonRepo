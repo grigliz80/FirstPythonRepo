{
 "cells": [
  {
   "cell_type": "markdown",
   "metadata": {},
   "source": [
    "Task1 The greatest number"
   ]
  },
  {
   "cell_type": "code",
   "execution_count": null,
   "metadata": {},
   "outputs": [],
   "source": [
    "import random\n",
    "\n",
    "x_list = []\n",
    "\n",
    "while len(x_list) < 10:\n",
    "    x_list += [random.randint(1, 1000)]\n",
    "\n",
    "print(x_list)    \n",
    "\n",
    "count = 0\n",
    "d_max = 0\n",
    "\n",
    "while count < len(x_list):\n",
    "    if d_max <= x_list[count]:\n",
    "        d_max = x_list[count]\n",
    "    count += 1\n",
    "else:\n",
    "    print(d_max) "
   ]
  },
  {
   "cell_type": "markdown",
   "metadata": {},
   "source": [
    "Task1 The greatest number V2"
   ]
  },
  {
   "cell_type": "code",
   "execution_count": null,
   "metadata": {},
   "outputs": [],
   "source": [
    "my_list = []\n",
    "\n",
    "while len(my_list) < 10:\n",
    "    my_list += [random.randint(1, 1000)]\n",
    "else:\n",
    "    print(my_list)\n",
    "    print(max(my_list))"
   ]
  },
  {
   "cell_type": "markdown",
   "metadata": {},
   "source": [
    "Task2 Exclusive common numbers."
   ]
  },
  {
   "cell_type": "code",
   "execution_count": null,
   "metadata": {},
   "outputs": [],
   "source": [
    "list_1 = []\n",
    "list_2 = []\n",
    "\n",
    "while len(list_1) <= 10:\n",
    "    list_1 += [random.randint(1, 15)]\n",
    "    list_2 += [random.randint(1, 15)]\n",
    "else:\n",
    "    list_3 = list(set(list_1).intersection(set(list_2)))\n",
    "\n",
    "print(list_3)"
   ]
  },
  {
   "cell_type": "markdown",
   "metadata": {},
   "source": [
    "Task3 Extracting numbers."
   ]
  },
  {
   "cell_type": "code",
   "execution_count": null,
   "metadata": {},
   "outputs": [],
   "source": [
    "list_a = []\n",
    "list_b = []\n",
    "\n",
    "count = 1\n",
    "\n",
    "while len(list_a) < 100:\n",
    "    list_a += [count]\n",
    "    if count % 7 == 0 and count % 5 != 0:\n",
    "        list_b += [count]\n",
    "    count += 1\n",
    "else:\n",
    "    print(list_b)"
   ]
  }
 ],
 "metadata": {
  "kernelspec": {
   "display_name": "Python 3",
   "language": "python",
   "name": "python3"
  },
  "language_info": {
   "codemirror_mode": {
    "name": "ipython",
    "version": 3
   },
   "file_extension": ".py",
   "mimetype": "text/x-python",
   "name": "python",
   "nbconvert_exporter": "python",
   "pygments_lexer": "ipython3",
   "version": "3.13.0"
  }
 },
 "nbformat": 4,
 "nbformat_minor": 2
}
