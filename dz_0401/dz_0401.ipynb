{
 "cells": [
  {
   "cell_type": "markdown",
   "metadata": {},
   "source": [
    "Task1: Make a program that has some sentence (a string) on input and returns a dict containing all unique words as keys and the number of occurrences as values. "
   ]
  },
  {
   "cell_type": "code",
   "execution_count": null,
   "metadata": {},
   "outputs": [],
   "source": [
    "symb = '!@#$%^&*()_+=-0987654321<,>.?/\"\\':;|`~'\n",
    "inp_str = 'One of the mantras I teach my students is, \"Once I know better, I do better.\"'\n",
    "fst_list = inp_str.split()\n",
    "sc_list = [item.strip(f'{symb}') for item in fst_list]\n",
    "tr_dict = dict()\n",
    "\n",
    "for item in sc_list:\n",
    "    occ = 1\n",
    "    if item in tr_dict.keys():\n",
    "        tr_dict[item] += 1\n",
    "    else:\n",
    "        tr_dict.update({item: occ})\n",
    "\n",
    "print(tr_dict)"
   ]
  },
  {
   "cell_type": "markdown",
   "metadata": {},
   "source": [
    "Task2 Compute the total price of the stock where the total price is the sum of the price of an item multiplied by the quantity of this exact item."
   ]
  },
  {
   "cell_type": "code",
   "execution_count": null,
   "metadata": {},
   "outputs": [],
   "source": [
    "stock = {\n",
    "    \"banana\": 6,\n",
    "    \"apple\": 0,\n",
    "    \"orange\": 32,\n",
    "    \"pear\": 15\n",
    "}\n",
    "prices = {\n",
    "    \"banana\": 4,\n",
    "    \"apple\": 2,\n",
    "    \"orange\": 1.5,\n",
    "    \"pear\": 3\n",
    "}\n",
    "fin_dict = dict()\n",
    "\n",
    "for key in stock:\n",
    "    fin_dict.update({key: stock[key] * prices[key]})\n",
    "\n",
    "print(fin_dict)"
   ]
  },
  {
   "cell_type": "markdown",
   "metadata": {},
   "source": [
    "Task3 List comprehension exercise"
   ]
  },
  {
   "cell_type": "code",
   "execution_count": null,
   "metadata": {},
   "outputs": [],
   "source": [
    "compr_list  = [(i, i ** 2) for i in range(1, 11)]\n",
    "\n",
    "print(compr_list)"
   ]
  },
  {
   "cell_type": "markdown",
   "metadata": {},
   "source": [
    "Task4 days of week"
   ]
  },
  {
   "cell_type": "code",
   "execution_count": null,
   "metadata": {},
   "outputs": [],
   "source": [
    "week_list  = ['Monday', 'Tuesday', 'Wednesday', 'Thursday', 'Friday', 'Saturday', 'Sundday']\n",
    "\n",
    "dict_a = {i + 1: day for i, day in enumerate(week_list)}\n",
    "dict_b = {day: i + 1 for i, day in enumerate(week_list)}\n",
    "\n",
    "print(dict_a)\n",
    "print(dict_b)"
   ]
  }
 ],
 "metadata": {
  "kernelspec": {
   "display_name": "Python 3",
   "language": "python",
   "name": "python3"
  },
  "language_info": {
   "codemirror_mode": {
    "name": "ipython",
    "version": 3
   },
   "file_extension": ".py",
   "mimetype": "text/x-python",
   "name": "python",
   "nbconvert_exporter": "python",
   "pygments_lexer": "ipython3",
   "version": "3.13.0"
  }
 },
 "nbformat": 4,
 "nbformat_minor": 2
}
