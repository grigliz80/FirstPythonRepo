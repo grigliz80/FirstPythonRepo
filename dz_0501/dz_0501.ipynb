{
 "cells": [
  {
   "cell_type": "markdown",
   "metadata": {},
   "source": [
    "Task1 A simple function."
   ]
  },
  {
   "cell_type": "code",
   "execution_count": null,
   "metadata": {},
   "outputs": [],
   "source": [
    "def favorite_movie(name):\n",
    "    print(f'My favorite movie is named \"{name}\".')\n",
    "\n",
    "\n",
    "favorite_movie('Alien')"
   ]
  },
  {
   "cell_type": "markdown",
   "metadata": {},
   "source": [
    "Task2 Creating a dictionary."
   ]
  },
  {
   "cell_type": "code",
   "execution_count": null,
   "metadata": {},
   "outputs": [],
   "source": [
    "def make_country(name, capital):\n",
    "    cntr_dict = {}\n",
    "    cntr_dict[name] = capital\n",
    "    print('Country - ', name)\n",
    "    print('Capital - ', cntr_dict[name])\n",
    "    return cntr_dict\n",
    "\n",
    "\n",
    "make_country('Barbados', 'Bridgetown')"
   ]
  },
  {
   "cell_type": "markdown",
   "metadata": {},
   "source": [
    "Task3 A simple calculator."
   ]
  },
  {
   "cell_type": "code",
   "execution_count": 1,
   "metadata": {},
   "outputs": [
    {
     "name": "stdout",
     "output_type": "stream",
     "text": [
      "Invalid operator. Use \"+\", \"-\" or \"*\" only.\n",
      "Invalid input parameter. All arguments must be integers.\n",
      "9\n",
      "-3\n",
      "24\n"
     ]
    }
   ],
   "source": [
    "def make_operation(sign, *args):\n",
    "    \"\"\"\n",
    "    Виконує арифметичну операцію (+, -, *) для послідовності чисел.  \n",
    "    Args:\n",
    "        sign (str): Оператор ('+', '-', '*').\n",
    "        *args (int): Послідовність чисел для операції.\n",
    "    Returns:\n",
    "        int: Результат обчислення.\n",
    "    \"\"\"\n",
    "    if sign not in {'+', '-', '*'}:\n",
    "        return 'Invalid operator. Use \"+\", \"-\" or \"*\" only.' \n",
    "    if not all(isinstance(i, int) for i in args):\n",
    "        return 'Invalid input parameter. All arguments must be integers.'\n",
    "    # Використання словника операторів\n",
    "    operations = {\n",
    "        '+': sum(args),\n",
    "        '-': args[0] - sum(args[1:]),\n",
    "        '*': eval('*'.join(map(str, args)))\n",
    "    }\n",
    "\n",
    "    return operations[sign]\n",
    "\n",
    "\n",
    "print(make_operation('/', 3, 4, 2)) #Invalid operator. Use \"+\", \"-\" or \"*\" only.\n",
    "print(make_operation('+', 3, '4', 2)) #Invalid input parameter. All arguments must be integers.\n",
    "print(make_operation('+', 3, 4, 2)) # 9\n",
    "print(make_operation('-', 3, 4, 2)) # -3\n",
    "print(make_operation('*', 3, 4, 2)) # 24"
   ]
  }
 ],
 "metadata": {
  "kernelspec": {
   "display_name": "Python 3",
   "language": "python",
   "name": "python3"
  },
  "language_info": {
   "codemirror_mode": {
    "name": "ipython",
    "version": 3
   },
   "file_extension": ".py",
   "mimetype": "text/x-python",
   "name": "python",
   "nbconvert_exporter": "python",
   "pygments_lexer": "ipython3",
   "version": "3.13.0"
  }
 },
 "nbformat": 4,
 "nbformat_minor": 2
}
