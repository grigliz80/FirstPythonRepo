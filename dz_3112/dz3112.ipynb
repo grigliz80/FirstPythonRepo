{
 "cells": [
  {
   "cell_type": "markdown",
   "metadata": {},
   "source": [
    "Task1 The Guessing Game."
   ]
  },
  {
   "cell_type": "code",
   "execution_count": null,
   "metadata": {},
   "outputs": [],
   "source": [
    "import random\n",
    "\n",
    "win_phr = ['WOW! YOU DID IT!\\n', 'BINGO!\\n', 'YOU WON!\\n', 'WINNER!\\n'\n",
    "            , 'GOOD BOY!\\n', 'YOU GUESSED IT! BRAVO!\\n']\n",
    "los_phr = ['YOU LOSE\\n', 'DEFEATED\\n', 'ELIMINATED\\n', 'TRY AGAIN\\n'\n",
    "            , 'NOT THIS TIME DUDE XD\\n', 'MISSION FAILED\\n']\n",
    "\n",
    "game_is_running = True\n",
    "attempt = 3\n",
    "\n",
    "while game_is_running:\n",
    "    s_u_number = input('Enter number between 1 and 10: ')\n",
    "\n",
    "    if s_u_number.isdigit() == False:\n",
    "        print('WRONG INPUT')\n",
    "        continue\n",
    "    else:    \n",
    "        u_number = int(s_u_number)\n",
    "\n",
    "        if u_number > 10 or u_number < 1:\n",
    "            print('WRONG INPUT')\n",
    "            continue\n",
    "        else:\n",
    "            c_number = random.randint(1, 10)\n",
    "            print(f'YOU: {u_number}, CPU: {c_number}')\n",
    "\n",
    "            if u_number == c_number:\n",
    "                print('%s' % win_phr[random.randint(0, len(win_phr) - 1)])\n",
    "            else:\n",
    "                attempt -= 1\n",
    "                print('%s %d ATTEMPTS LEFT\\n' \n",
    "                    % (los_phr[random.randint(0, len(los_phr) - 1)], attempt))\n",
    "                if attempt == 0:\n",
    "                    game_is_running = False\n",
    "else:\n",
    "    print('GAME OVER!\\n HAPPY NEW YEAR!')\n",
    "\n",
    "\n"
   ]
  },
  {
   "cell_type": "markdown",
   "metadata": {},
   "source": [
    "Task2 The birthday greeting program"
   ]
  },
  {
   "cell_type": "code",
   "execution_count": null,
   "metadata": {},
   "outputs": [],
   "source": [
    "user_name = input('Enter Your Name')\n",
    "user_age = input('Enter your age: ')\n",
    "\n",
    "print(f'Hello {user_name}, next birthday you\\'ll be {int(user_age) + 1}')"
   ]
  },
  {
   "cell_type": "markdown",
   "metadata": {},
   "source": [
    "Task3 Words combination"
   ]
  },
  {
   "cell_type": "code",
   "execution_count": null,
   "metadata": {},
   "outputs": [],
   "source": [
    "import random\n",
    "\n",
    "my_string = input('Write here: ')\n",
    "    \n",
    "for _ in range(5):\n",
    "    o_l_ms = list(my_string)\n",
    "    random.shuffle(o_l_ms)\n",
    "    print(''.join(o_l_ms))"
   ]
  }
 ],
 "metadata": {
  "kernelspec": {
   "display_name": "Python 3",
   "language": "python",
   "name": "python3"
  },
  "language_info": {
   "codemirror_mode": {
    "name": "ipython",
    "version": 3
   },
   "file_extension": ".py",
   "mimetype": "text/x-python",
   "name": "python",
   "nbconvert_exporter": "python",
   "pygments_lexer": "ipython3",
   "version": "3.13.0"
  }
 },
 "nbformat": 4,
 "nbformat_minor": 2
}
